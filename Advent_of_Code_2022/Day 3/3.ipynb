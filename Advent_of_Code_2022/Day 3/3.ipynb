{
 "cells": [
  {
   "cell_type": "code",
   "execution_count": 63,
   "metadata": {},
   "outputs": [],
   "source": [
    "f = open(\"3.txt\", \"r\")\n",
    "\n",
    "\n",
    "data = [line for line in f.read().split(\"\\n\")][:-1]"
   ]
  },
  {
   "cell_type": "code",
   "execution_count": 64,
   "metadata": {},
   "outputs": [
    {
     "name": "stdout",
     "output_type": "stream",
     "text": [
      "7446\n"
     ]
    }
   ],
   "source": [
    "#data = [\"vJrwpWtwJgWrhcsFMMfFFhFp\",\"jqHRNqRjqzjGDLGLrsFMfFZSrLrFZsSL\",\"PmmdzqPrVvPwwTWBwg\",\"wMqvLMZHhHMvwLHjbvcjnnSBnvTQFn\",\"ttgJtRGJQctTZtZT\",\"CrZsJsPPZsGzwwsLwLmpwMDw\"]\n",
    "\n",
    "sum = 0\n",
    "for i in data : \n",
    "    a = i[:int(len(i) / 2)]\n",
    "    b = i[int(len(i) / 2):]\n",
    "    for letter in a : \n",
    "        if letter in b :\n",
    "            #print(letter, end = \"\")\n",
    "            if letter in \"QWERTZUIOPASDFGHJKLYXCVBNM\" : \n",
    "                sum += ord(letter) - 38\n",
    "                #print(ord(letter) - 38)\n",
    "            else : \n",
    "                sum += ord(letter) - 96\n",
    "                #print(ord(letter) - 96)\n",
    "            break\n",
    "\n",
    "print(sum)\n",
    "\n",
    "    "
   ]
  },
  {
   "cell_type": "code",
   "execution_count": 65,
   "metadata": {},
   "outputs": [
    {
     "name": "stdout",
     "output_type": "stream",
     "text": [
      "2646\n"
     ]
    }
   ],
   "source": [
    "#data = [\"vJrwpWtwJgWrhcsFMMfFFhFp\",\"jqHRNqRjqzjGDLGLrsFMfFZSrLrFZsSL\",\"PmmdzqPrVvPwwTWBwg\",\"wMqvLMZHhHMvwLHjbvcjnnSBnvTQFn\",\"ttgJtRGJQctTZtZT\",\"CrZsJsPPZsGzwwsLwLmpwMDw\"]\n",
    "\n",
    "sum = 0\n",
    "for i in range(int(len(data) / 3)) :\n",
    "    a = data[3 * i] \n",
    "    b = data[3 * i + 1]\n",
    "    c = data[3 * i + 2]\n",
    "    for letter in a : \n",
    "        if letter in b :\n",
    "            if letter in c : \n",
    "                #print(letter, end = \"\")\n",
    "                if letter in \"QWERTZUIOPASDFGHJKLYXCVBNM\" : \n",
    "                    sum += ord(letter) - 38\n",
    "                    #print(ord(letter) - 38)\n",
    "                else : \n",
    "                    sum += ord(letter) - 96\n",
    "                    #print(ord(letter) - 96)\n",
    "                break\n",
    "\n",
    "print(sum)\n",
    "\n",
    "    "
   ]
  },
  {
   "cell_type": "code",
   "execution_count": 36,
   "metadata": {},
   "outputs": [],
   "source": [
    "a = i[:int(len(i) / 2)]\n",
    "b = i[int(len(i) / 2):]"
   ]
  },
  {
   "cell_type": "code",
   "execution_count": 44,
   "metadata": {},
   "outputs": [
    {
     "data": {
      "text/plain": [
       "'JppMDcJPcQbqGqFb'"
      ]
     },
     "execution_count": 44,
     "metadata": {},
     "output_type": "execute_result"
    }
   ],
   "source": []
  },
  {
   "cell_type": "code",
   "execution_count": 39,
   "metadata": {},
   "outputs": [
    {
     "data": {
      "text/plain": [
       "65"
      ]
     },
     "execution_count": 39,
     "metadata": {},
     "output_type": "execute_result"
    }
   ],
   "source": [
    "ord(\"A\")"
   ]
  },
  {
   "cell_type": "code",
   "execution_count": null,
   "metadata": {},
   "outputs": [],
   "source": []
  }
 ],
 "metadata": {
  "kernelspec": {
   "display_name": "Python 3.10.8 64-bit (microsoft store)",
   "language": "python",
   "name": "python3"
  },
  "language_info": {
   "codemirror_mode": {
    "name": "ipython",
    "version": 3
   },
   "file_extension": ".py",
   "mimetype": "text/x-python",
   "name": "python",
   "nbconvert_exporter": "python",
   "pygments_lexer": "ipython3",
   "version": "3.10.8"
  },
  "orig_nbformat": 4,
  "vscode": {
   "interpreter": {
    "hash": "53552b94ef288d0b559a0e0a5872f3f789804696c0f8924a2d57965d1f177bcb"
   }
  }
 },
 "nbformat": 4,
 "nbformat_minor": 2
}
