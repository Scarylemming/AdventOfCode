{
 "cells": [
  {
   "cell_type": "code",
   "execution_count": 27,
   "metadata": {},
   "outputs": [],
   "source": [
    "f = open(\"4.txt\", \"r\")\n",
    "\n",
    "\n",
    "data = [line.split(\",\") for line in f.read().split(\"\\n\")][:-1]"
   ]
  },
  {
   "cell_type": "code",
   "execution_count": 28,
   "metadata": {},
   "outputs": [
    {
     "name": "stdout",
     "output_type": "stream",
     "text": [
      "599\n"
     ]
    }
   ],
   "source": [
    "sum = 0\n",
    "for i in data : \n",
    "    a = i[0].split(\"-\")\n",
    "    b = i[1].split(\"-\")\n",
    "    if (int(a[0]) >= int(b[0]) and int(a[1]) <= int(b[1])) or (int(a[0]) <= int(b[0]) and int(a[1]) >= int(b[1])) :\n",
    "        sum += 1\n",
    "print(sum)"
   ]
  },
  {
   "cell_type": "code",
   "execution_count": 29,
   "metadata": {},
   "outputs": [
    {
     "name": "stdout",
     "output_type": "stream",
     "text": [
      "928\n"
     ]
    }
   ],
   "source": [
    "sum = 0\n",
    "for i in data : \n",
    "    a = i[0].split(\"-\")\n",
    "    b = i[1].split(\"-\")\n",
    "    for j in [0,1] :\n",
    "        if (int(b[0]) <= int(a[j]) <= int(b[1])) or (int(a[0]) <= int(b[j]) <= int(a[1])) : \n",
    "            sum += 1\n",
    "            #print(i)\n",
    "            break\n",
    "print(sum)"
   ]
  }
 ],
 "metadata": {
  "kernelspec": {
   "display_name": "Python 3.10.8 64-bit (microsoft store)",
   "language": "python",
   "name": "python3"
  },
  "language_info": {
   "codemirror_mode": {
    "name": "ipython",
    "version": 3
   },
   "file_extension": ".py",
   "mimetype": "text/x-python",
   "name": "python",
   "nbconvert_exporter": "python",
   "pygments_lexer": "ipython3",
   "version": "3.10.8"
  },
  "orig_nbformat": 4,
  "vscode": {
   "interpreter": {
    "hash": "53552b94ef288d0b559a0e0a5872f3f789804696c0f8924a2d57965d1f177bcb"
   }
  }
 },
 "nbformat": 4,
 "nbformat_minor": 2
}
