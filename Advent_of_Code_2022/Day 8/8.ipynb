{
 "cells": [
  {
   "cell_type": "code",
   "execution_count": 125,
   "metadata": {},
   "outputs": [],
   "source": [
    "f = open(\"8.txt\", \"r\")\n",
    "\n",
    "\n",
    "data = [line for line in f.read().split(\"\\n\")]\n",
    "if data[-1] == \"\" : \n",
    "    data = data[:-1]"
   ]
  },
  {
   "cell_type": "code",
   "execution_count": 126,
   "metadata": {},
   "outputs": [
    {
     "data": {
      "text/plain": [
       "(99, 99)"
      ]
     },
     "execution_count": 126,
     "metadata": {},
     "output_type": "execute_result"
    }
   ],
   "source": [
    "#data = [\"30373\",\"25512\",\"65332\",\"33549\",\"35390\"]\n",
    "\n",
    "import numpy as np\n",
    "import copy\n",
    "import math\n",
    "\n",
    "grille = np.zeros([len(data), len(data[0])])\n",
    "grille.shape"
   ]
  },
  {
   "cell_type": "code",
   "execution_count": 38,
   "metadata": {},
   "outputs": [],
   "source": [
    "\n",
    "for ligne, i in enumerate(data) : \n",
    "    max1 = -1\n",
    "    max2 = -1\n",
    "    for j in range(len(i)) : \n",
    "        if int(i[j]) > max1 : \n",
    "            max1 = int(i[j])\n",
    "            grille[ligne,j] += 1\n",
    "        if int(i[len(i) - j - 1]) > max2 : \n",
    "            max2 = int(i[len(i) - j - 1])\n",
    "            grille[ligne,len(i) - j - 1] += 1\n"
   ]
  },
  {
   "cell_type": "code",
   "execution_count": 39,
   "metadata": {},
   "outputs": [],
   "source": [
    "for j in range(len(data[0])) :\n",
    "    max1 = -1\n",
    "    max2 = -1\n",
    "    for i in range(len(data)) :\n",
    "        if int(data[i][j]) > max1 : \n",
    "            max1 = int(data[i][j])\n",
    "            grille[i,j] += 1\n",
    "        if int(data[len(data) - i - 1][j]) > max2 : \n",
    "            max2 = int(data[len(data) - 1 - i][j])\n",
    "            grille[len(data) - i - 1, j] += 1\n",
    "        \n",
    "    "
   ]
  },
  {
   "cell_type": "code",
   "execution_count": 40,
   "metadata": {},
   "outputs": [
    {
     "data": {
      "text/plain": [
       "1662"
      ]
     },
     "execution_count": 40,
     "metadata": {},
     "output_type": "execute_result"
    }
   ],
   "source": [
    "np.count_nonzero(grille)"
   ]
  },
  {
   "cell_type": "code",
   "execution_count": 130,
   "metadata": {},
   "outputs": [],
   "source": [
    "def up(i,j,data = data) : \n",
    "    h = data[i][j]\n",
    "    score = 0\n",
    "    while (i-1) >= 0 : \n",
    "        i = i-1\n",
    "        if data[i][j] < h : \n",
    "            score += 1\n",
    "        else : \n",
    "            score += 1\n",
    "            break\n",
    "    return score\n",
    "\n",
    "def down(i,j,data = data) : \n",
    "    h = data[i][j]\n",
    "    score = 0\n",
    "    while (i+1) < len(data) : \n",
    "        i = i+1\n",
    "        if data[i][j] < h : \n",
    "            score += 1\n",
    "        else : \n",
    "            score += 1\n",
    "            break\n",
    "    return score"
   ]
  },
  {
   "cell_type": "code",
   "execution_count": 131,
   "metadata": {},
   "outputs": [],
   "source": [
    "def right(i,j,data = data) : \n",
    "    h = data[i][j]\n",
    "    score = 0\n",
    "    while (j-1) >= 0 : \n",
    "        j = j-1\n",
    "        if data[i][j] < h : \n",
    "            score += 1\n",
    "        else : \n",
    "            score += 1\n",
    "            break\n",
    "    return score\n",
    "\n",
    "def left(i,j,data = data) : \n",
    "    h = data[i][j]\n",
    "    score = 0\n",
    "    while (j+1) < len(data) :\n",
    "        j = j+1\n",
    "        if data[i][j] < h : \n",
    "            score += 1\n",
    "        else : \n",
    "            score += 1\n",
    "            break\n",
    "    return score"
   ]
  },
  {
   "cell_type": "code",
   "execution_count": 132,
   "metadata": {},
   "outputs": [],
   "source": [
    "for i in range(len(grille)) : \n",
    "    for j in range(len(grille[0])) : \n",
    "        #print(i,j,\"scores :\", up(i,j), right(i,j), down(i,j), left(i,j))\n",
    "        try :\n",
    "            grille[i,j] = up(i,j) * right(i,j) * down(i,j) * left(i,j)\n",
    "        except : \n",
    "            print(i,j)"
   ]
  },
  {
   "cell_type": "code",
   "execution_count": 133,
   "metadata": {},
   "outputs": [
    {
     "data": {
      "text/plain": [
       "[2, 0, 3, 1]"
      ]
     },
     "execution_count": 133,
     "metadata": {},
     "output_type": "execute_result"
    }
   ],
   "source": [
    "score(3,2)"
   ]
  },
  {
   "cell_type": "code",
   "execution_count": 135,
   "metadata": {},
   "outputs": [
    {
     "data": {
      "text/plain": [
       "537600.0"
      ]
     },
     "execution_count": 135,
     "metadata": {},
     "output_type": "execute_result"
    },
    {
     "ename": "",
     "evalue": "",
     "output_type": "error",
     "traceback": [
      "\u001b[1;31mLe Kernel s’est bloqué lors de l’exécution du code dans la cellule active ou une cellule précédente. Veuillez vérifier le code dans la ou les cellules pour identifier une cause possible de l’échec. Cliquez <a href='https://aka.ms/vscodeJupyterKernelCrash'>ici</a> pour plus d’informations. Pour plus d’informations, consultez Jupyter <a href='command:jupyter.viewOutput'>log</a>."
     ]
    }
   ],
   "source": [
    "grille.max()"
   ]
  },
  {
   "cell_type": "code",
   "execution_count": 129,
   "metadata": {},
   "outputs": [
    {
     "data": {
      "text/plain": [
       "99"
      ]
     },
     "execution_count": 129,
     "metadata": {},
     "output_type": "execute_result"
    }
   ],
   "source": [
    "len(data[0])"
   ]
  },
  {
   "cell_type": "code",
   "execution_count": null,
   "metadata": {},
   "outputs": [],
   "source": []
  }
 ],
 "metadata": {
  "kernelspec": {
   "display_name": "Python 3.10.8 64-bit (microsoft store)",
   "language": "python",
   "name": "python3"
  },
  "language_info": {
   "codemirror_mode": {
    "name": "ipython",
    "version": 3
   },
   "file_extension": ".py",
   "mimetype": "text/x-python",
   "name": "python",
   "nbconvert_exporter": "python",
   "pygments_lexer": "ipython3",
   "version": "3.10.8"
  },
  "orig_nbformat": 4,
  "vscode": {
   "interpreter": {
    "hash": "53552b94ef288d0b559a0e0a5872f3f789804696c0f8924a2d57965d1f177bcb"
   }
  }
 },
 "nbformat": 4,
 "nbformat_minor": 2
}
