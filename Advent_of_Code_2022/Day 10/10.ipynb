{
 "cells": [
  {
   "cell_type": "code",
   "execution_count": 20,
   "metadata": {},
   "outputs": [],
   "source": [
    "import numpy as np\n",
    "import math\n",
    "import matplotlib.pyplot as plt\n",
    "import copy\n",
    "f = open(\"10.txt\", \"r\")\n",
    "\n",
    "\n",
    "data = [line for line in f.read().split(\"\\n\")]\n",
    "if data[-1] in [\"\", [\"\"]] : \n",
    "    data = data[:-1]"
   ]
  },
  {
   "cell_type": "code",
   "execution_count": 21,
   "metadata": {},
   "outputs": [
    {
     "name": "stdout",
     "output_type": "stream",
     "text": [
      "420\n",
      "960\n",
      "2100\n",
      "2940\n",
      "3780\n",
      "4620\n",
      "14820\n"
     ]
    }
   ],
   "source": [
    "c_nb = 1\n",
    "x = 1\n",
    "\n",
    "res = 0\n",
    "\n",
    "for i in data : \n",
    "    if i == \"noop\" : \n",
    "        if c_nb % 40 == 20 : \n",
    "            res += x * c_nb\n",
    "            print(x * c_nb)\n",
    "        c_nb += 1\n",
    "    else : \n",
    "        a = i.split(\" \")\n",
    "        if c_nb % 40 == 20 : \n",
    "            res += x * c_nb\n",
    "            print(x * c_nb)\n",
    "        c_nb += 1\n",
    "        if c_nb % 40 == 20 : \n",
    "            res += x * c_nb\n",
    "            print(x * c_nb)\n",
    "        c_nb += 1\n",
    "        x += int(a[1])\n",
    "\n",
    "print(res)"
   ]
  },
  {
   "cell_type": "code",
   "execution_count": 14,
   "metadata": {},
   "outputs": [
    {
     "data": {
      "text/plain": [
       "19.0"
      ]
     },
     "execution_count": 14,
     "metadata": {},
     "output_type": "execute_result"
    }
   ],
   "source": [
    "4180 / 220"
   ]
  },
  {
   "cell_type": "code",
   "execution_count": null,
   "metadata": {},
   "outputs": [],
   "source": []
  }
 ],
 "metadata": {
  "kernelspec": {
   "display_name": "Python 3.10.8 64-bit (microsoft store)",
   "language": "python",
   "name": "python3"
  },
  "language_info": {
   "codemirror_mode": {
    "name": "ipython",
    "version": 3
   },
   "file_extension": ".py",
   "mimetype": "text/x-python",
   "name": "python",
   "nbconvert_exporter": "python",
   "pygments_lexer": "ipython3",
   "version": "3.10.9 (tags/v3.10.9:1dd9be6, Dec  6 2022, 20:01:21) [MSC v.1934 64 bit (AMD64)]"
  },
  "orig_nbformat": 4,
  "vscode": {
   "interpreter": {
    "hash": "53552b94ef288d0b559a0e0a5872f3f789804696c0f8924a2d57965d1f177bcb"
   }
  }
 },
 "nbformat": 4,
 "nbformat_minor": 2
}
