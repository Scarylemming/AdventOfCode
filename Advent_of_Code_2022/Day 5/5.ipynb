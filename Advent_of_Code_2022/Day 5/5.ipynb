{
 "cells": [
  {
   "cell_type": "code",
   "execution_count": 7,
   "metadata": {},
   "outputs": [],
   "source": [
    "f = open(\"5.txt\", \"r\")\n",
    "\n",
    "\n",
    "data = [line.split(\"\\n\") for line in f.read().split(\"\\n\\n\")]"
   ]
  },
  {
   "cell_type": "code",
   "execution_count": 15,
   "metadata": {},
   "outputs": [],
   "source": [
    "data[0]\n",
    "just_letters = []\n",
    "for i in data[0] : \n",
    "    row = []\n",
    "    for letter in i : \n",
    "        if letter in \"QWERTZUIOPASDFGHJKLYXCVBNM\" : \n",
    "            row.append(letter)\n",
    "    just_letters.append(row)\n",
    "    "
   ]
  },
  {
   "cell_type": "code",
   "execution_count": 76,
   "metadata": {},
   "outputs": [
    {
     "name": "stdout",
     "output_type": "stream",
     "text": [
      "SHMSDGZVC"
     ]
    }
   ],
   "source": [
    "grille = []\n",
    "for i,letter in enumerate(data[0][-1]) : \n",
    "    ligne = []\n",
    "    if letter in \"123456789\" : \n",
    "        for row in data[0][:-1] : \n",
    "            if row[i] == \" \" : \n",
    "                pass\n",
    "            else : \n",
    "                ligne.insert(0,str(row[i]))\n",
    "        grille.append(ligne)\n",
    "\n",
    "instructions = [line.split(\" \") for line in data[1]]\n",
    "instr_nb = [[i[1], i[3], i[-1]] for i in instructions[:-1]]\n",
    "\n",
    "\n",
    "\n",
    "def mvt(nb, start, end, grille = grille) :\n",
    "    for i in range(nb) :\n",
    "        a = grille[start][-1]\n",
    "        grille[start].pop()\n",
    "        grille[end].append(a)\n",
    "    return grille\n",
    "\n",
    "\n",
    "for i in instr_nb : \n",
    "    try : \n",
    "        grille = mvt(int(i[0]), int(i[1])-1, int(i[2])-1)\n",
    "    except :\n",
    "        print(i)\n",
    "\n",
    "for i in grille : \n",
    "    print(i[-1], end = \"\")\n"
   ]
  },
  {
   "cell_type": "code",
   "execution_count": 82,
   "metadata": {},
   "outputs": [
    {
     "name": "stdout",
     "output_type": "stream",
     "text": [
      "VRZGHDFBQ"
     ]
    },
    {
     "ename": "",
     "evalue": "",
     "output_type": "error",
     "traceback": [
      "\u001b[1;31mLe Kernel s’est bloqué lors de l’exécution du code dans la cellule active ou une cellule précédente. Veuillez vérifier le code dans la ou les cellules pour identifier une cause possible de l’échec. Cliquez <a href='https://aka.ms/vscodeJupyterKernelCrash'>ici</a> pour plus d’informations. Pour plus d’informations, consultez Jupyter <a href='command:jupyter.viewOutput'>log</a>."
     ]
    }
   ],
   "source": [
    "grille = []\n",
    "for i,letter in enumerate(data[0][-1]) : \n",
    "    ligne = []\n",
    "    if letter in \"123456789\" : \n",
    "        for row in data[0][:-1] : \n",
    "            if row[i] == \" \" : \n",
    "                pass\n",
    "            else : \n",
    "                ligne.insert(0,str(row[i]))\n",
    "        grille.append(ligne)\n",
    "\n",
    "instructions = [line.split(\" \") for line in data[1]]\n",
    "instr_nb = [[i[1], i[3], i[-1]] for i in instructions[:-1]]\n",
    "\n",
    "\n",
    "\n",
    "def mvt(nb, start, end, grille = grille) :\n",
    "    a = grille[start][-nb:]\n",
    "    for j in range(nb) : \n",
    "        grille[start].pop()\n",
    "    for j in a : \n",
    "        grille[end].append(j)\n",
    "    return grille\n",
    "\n",
    "\n",
    "for i in instr_nb : \n",
    "    try : \n",
    "        grille = mvt(int(i[0]), int(i[1])-1, int(i[2])-1)\n",
    "    except :\n",
    "        print(i)\n",
    "\n",
    "for i in grille : \n",
    "    print(i[-1], end = \"\")\n"
   ]
  },
  {
   "cell_type": "code",
   "execution_count": 81,
   "metadata": {},
   "outputs": [
    {
     "data": {
      "text/plain": [
       "[[], [], [], [], [], [], [], [], []]"
      ]
     },
     "execution_count": 81,
     "metadata": {},
     "output_type": "execute_result"
    }
   ],
   "source": [
    "grille"
   ]
  },
  {
   "cell_type": "code",
   "execution_count": null,
   "metadata": {},
   "outputs": [],
   "source": []
  }
 ],
 "metadata": {
  "kernelspec": {
   "display_name": "Python 3.10.8 64-bit (microsoft store)",
   "language": "python",
   "name": "python3"
  },
  "language_info": {
   "codemirror_mode": {
    "name": "ipython",
    "version": 3
   },
   "file_extension": ".py",
   "mimetype": "text/x-python",
   "name": "python",
   "nbconvert_exporter": "python",
   "pygments_lexer": "ipython3",
   "version": "3.10.8"
  },
  "orig_nbformat": 4,
  "vscode": {
   "interpreter": {
    "hash": "53552b94ef288d0b559a0e0a5872f3f789804696c0f8924a2d57965d1f177bcb"
   }
  }
 },
 "nbformat": 4,
 "nbformat_minor": 2
}
